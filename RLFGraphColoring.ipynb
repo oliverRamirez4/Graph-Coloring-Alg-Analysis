{
 "cells": [
  {
   "cell_type": "code",
   "execution_count": 4,
   "id": "d8c76cd5-7288-4655-bbb7-788ebc2e5b10",
   "metadata": {
    "tags": []
   },
   "outputs": [],
   "source": [
    "import networkx as nx\n",
    "import random\n",
    "import numpy as np\n",
    "import time"
   ]
  },
  {
   "cell_type": "markdown",
   "id": "f553c9f4-1bc5-42f2-8fe2-5b8a6b93853e",
   "metadata": {},
   "source": [
    "Psuedocode for RLF:\n",
    "\n",
    "result contains the list of nodes in order of how they should be colored\n",
    "\n",
    "1. The First Node added is the one with the highest degree of neighbors.\n",
    "\n",
    "2. subsequent nodes addded are as follows. \n",
    "\n",
    "    a) not adjacent to any vertices in result\n",
    "    \n",
    "    b) have a maximal number of neighbors that are adjacent to vertices in result.\n",
    "        \n",
    "        i) Ties should be decided by choosing the vertex with the minimum number of neighbors not in S"
   ]
  },
  {
   "cell_type": "code",
   "execution_count": 5,
   "id": "0aab5120-a984-4fd7-9619-1247130174b2",
   "metadata": {
    "tags": []
   },
   "outputs": [],
   "source": [
    "\n",
    "#The Recursive Largest First Strategy is a heuristic of the greedy algorithm\n",
    "#this Function is designed to integrate with the networkx greedy_color method as \n",
    "#a strategy for ordering the nodes.\n",
    "#nx.greedy_color(graph, RLFStrategy)\n",
    "def RLFStrategy(graph,colors = {}):\n",
    "    #The list that we will return with order of nodes to be colored\n",
    "    result = []\n",
    "    \n",
    "    \n",
    "    #1. The First node added is the one with the highest degree of neighbors\n",
    "    high = -1\n",
    "    topNode = None\n",
    "    for node in graph.__iter__():\n",
    "        if graph.degree(node) > high:\n",
    "            topNode = node\n",
    "            high = graph.degree(node)\n",
    "    result.append(topNode)   \n",
    "     \n",
    "        \n",
    "        \n",
    "    #2.Subsequent nodes are added as follows\n",
    "    while len(result) < graph.number_of_nodes(): \n",
    "        \n",
    "        \n",
    "        # a) not adjacent to any vertex in result\n",
    "        adjdict = {}\n",
    "        #adjdict.keys() will contain all of the nodes adjacent to those in\n",
    "        for node in result:\n",
    "            adjdict.update(graph.__getitem__(node))\n",
    "        notadj = []\n",
    "        for node in graph.__iter__():\n",
    "            if (adjdict.get(node) is None) and (node not in result):\n",
    "                notadj.append(node)\n",
    "        #if notadj has none then we need to put all the uncolored vertices in\n",
    "        if notadj == []:\n",
    "            for node in graph.__iter__():\n",
    "                if node not in result:\n",
    "                    notadj.append(node)\n",
    "        \n",
    "        \n",
    "        #b) have maximal number of neighbors that are adjacent to vertices in result\n",
    "        pairings ={}\n",
    "        for node in notadj:\n",
    "            adjacents = graph.__getitem__(node)\n",
    "            count = 0\n",
    "            for adj in adjacents: \n",
    "                if adj in result:\n",
    "                    count+= 1   \n",
    "                    \n",
    "                    \n",
    "            # i) ties are deciding by choosing the vertex with the minimal number of neighbors not in result\n",
    "            if pairings.get(count) is not None:\n",
    "                a = graph.degree(pairings[count])-count\n",
    "                b = graph.degree(node)-count\n",
    "                if a < b:\n",
    "                    pairings.update({count:node}) \n",
    "                 # else do nothing\n",
    "            else:   \n",
    "                pairings.update({count:node})   \n",
    "\n",
    "        result.append(pairings[max(pairings)])\n",
    "        \n",
    "    return result\n",
    "       "
   ]
  }
 ],
 "metadata": {
  "kernelspec": {
   "display_name": "Python 3 (ipykernel)",
   "language": "python",
   "name": "python3"
  },
  "language_info": {
   "codemirror_mode": {
    "name": "ipython",
    "version": 3
   },
   "file_extension": ".py",
   "mimetype": "text/x-python",
   "name": "python",
   "nbconvert_exporter": "python",
   "pygments_lexer": "ipython3",
   "version": "3.11.4"
  }
 },
 "nbformat": 4,
 "nbformat_minor": 5
}
